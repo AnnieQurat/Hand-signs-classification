{
 "cells": [
  {
   "cell_type": "markdown",
   "metadata": {},
   "source": [
    "# Data Mining Techniques - Project 1\n",
    "### Australian Sign Language Classification"
   ]
  },
  {
   "cell_type": "markdown",
   "metadata": {},
   "source": [
    "### Imports"
   ]
  },
  {
   "cell_type": "code",
   "execution_count": 1,
   "metadata": {},
   "outputs": [],
   "source": [
    "import os\n",
    "import random\n",
    "import pandas as pd\n",
    "import numpy as np\n",
    "import matplotlib.pyplot as plt\n",
    "from sklearn.preprocessing import MinMaxScaler\n",
    "from sklearn.model_selection import train_test_split\n",
    "from sklearn.metrics import accuracy_score\n",
    "from sklearn.model_selection import GridSearchCV\n",
    "from sklearn.tree import DecisionTreeClassifier\n",
    "from sklearn.svm import SVC\n",
    "from sklearn.naive_bayes import GaussianNB\n",
    "from scipy.signal import medfilt\n",
    "import itertools"
   ]
  },
  {
   "cell_type": "markdown",
   "metadata": {},
   "source": [
    "### Parsing file names from the dataset"
   ]
  },
  {
   "cell_type": "code",
   "execution_count": 2,
   "metadata": {},
   "outputs": [],
   "source": [
    "path = 'allsigns\\\\signs\\\\'\n",
    "signers = os.listdir(path)\n",
    "all_files = []\n",
    "labels = []\n",
    "for signer in signers:\n",
    "    signs = os.listdir(path + signer)\n",
    "    for sign in signs:\n",
    "        all_files.append(path + signer + \"\\\\\" + sign)\n",
    "        labels.append(sign.split('.')[0][:-1])"
   ]
  },
  {
   "cell_type": "code",
   "execution_count": 3,
   "metadata": {},
   "outputs": [],
   "source": [
    "def vec_resize(vector, size = 50):\n",
    "    \"\"\"\n",
    "        Expands/collapes a vector to a fixed size using down/oversampling.\n",
    "    \"\"\"\n",
    "    current_size = len(vector)\n",
    "    if current_size == size:\n",
    "        return vector    \n",
    "    if current_size > size:\n",
    "        return [vector[_] for _ in sorted(random.sample(range(current_size), size))]\n",
    "    else:\n",
    "        return [vector[_] for _ in sorted(random.choices(range(current_size), k=size))]"
   ]
  },
  {
   "cell_type": "code",
   "execution_count": 4,
   "metadata": {},
   "outputs": [],
   "source": [
    "def remove_white_noise(vector, thres = 0.01):\n",
    "    \"\"\"\n",
    "        Removes values less than thres in the \n",
    "        signals (i.e white noise at beginning and end of recording.)\n",
    "    \"\"\"\n",
    "    return [val for val in vector if abs(val) > thres]"
   ]
  },
  {
   "cell_type": "code",
   "execution_count": 5,
   "metadata": {},
   "outputs": [],
   "source": [
    "#Mapping sign names to numerical indices.\n",
    "\n",
    "label2ind = {label[1] : label[0] for label in enumerate(list(set(labels)))}"
   ]
  },
  {
   "cell_type": "code",
   "execution_count": 6,
   "metadata": {},
   "outputs": [],
   "source": [
    "X = pd.DataFrame()"
   ]
  },
  {
   "cell_type": "markdown",
   "metadata": {},
   "source": [
    "### Opening each sign file, parsing it, and performing white noise removal, vector resizing, and median filtering."
   ]
  },
  {
   "cell_type": "code",
   "execution_count": 7,
   "metadata": {},
   "outputs": [
    {
     "name": "stdout",
     "output_type": "stream",
     "text": [
      "file 100 / 6757\n",
      "file 200 / 6757\n",
      "file 300 / 6757\n",
      "file 400 / 6757\n",
      "file 500 / 6757\n",
      "file 600 / 6757\n",
      "file 700 / 6757\n",
      "file 800 / 6757\n",
      "file 900 / 6757\n",
      "file 1000 / 6757\n",
      "file 1100 / 6757\n",
      "file 1200 / 6757\n",
      "file 1300 / 6757\n",
      "file 1400 / 6757\n",
      "file 1500 / 6757\n",
      "file 1600 / 6757\n",
      "file 1700 / 6757\n",
      "file 1800 / 6757\n",
      "file 1900 / 6757\n",
      "file 2000 / 6757\n",
      "file 2100 / 6757\n",
      "file 2200 / 6757\n",
      "file 2300 / 6757\n",
      "file 2400 / 6757\n",
      "file 2500 / 6757\n",
      "file 2600 / 6757\n",
      "file 2700 / 6757\n",
      "file 2800 / 6757\n",
      "file 2900 / 6757\n",
      "file 3000 / 6757\n",
      "file 3100 / 6757\n",
      "file 3200 / 6757\n",
      "file 3300 / 6757\n",
      "file 3400 / 6757\n",
      "file 3500 / 6757\n",
      "file 3600 / 6757\n",
      "file 3700 / 6757\n",
      "file 3800 / 6757\n",
      "file 3900 / 6757\n",
      "file 4000 / 6757\n",
      "file 4100 / 6757\n",
      "file 4200 / 6757\n",
      "file 4300 / 6757\n",
      "file 4400 / 6757\n",
      "file 4500 / 6757\n",
      "file 4600 / 6757\n",
      "file 4700 / 6757\n",
      "file 4800 / 6757\n",
      "file 4900 / 6757\n",
      "file 5000 / 6757\n",
      "file 5100 / 6757\n",
      "file 5200 / 6757\n",
      "file 5300 / 6757\n",
      "file 5400 / 6757\n",
      "file 5500 / 6757\n",
      "file 5600 / 6757\n",
      "file 5700 / 6757\n",
      "file 5800 / 6757\n",
      "file 5900 / 6757\n",
      "file 6000 / 6757\n",
      "file 6100 / 6757\n",
      "file 6200 / 6757\n",
      "file 6300 / 6757\n",
      "file 6400 / 6757\n",
      "file 6500 / 6757\n",
      "file 6600 / 6757\n",
      "file 6700 / 6757\n"
     ]
    }
   ],
   "source": [
    "header = ['x', 'y', 'z', 'roll', 'pitch', 'yaw', 'thumb', 'fore', 'index', 'ring', 'little', 'keycode', 'gs1', 'gs2', 'rec']\n",
    "cols_todrop = ['pitch', 'yaw', 'little', 'keycode', 'gs1', 'gs2', 'rec']\n",
    "scaler = MinMaxScaler()\n",
    "faulty_files = []\n",
    "\n",
    "i=1\n",
    "for sign_file in all_files:\n",
    "    with open(sign_file) as csv_file:\n",
    "        if i % 100 == 0:\n",
    "            print('file', i, '/', len(all_files))\n",
    "        i+=1\n",
    "        try:\n",
    "            df = pd.read_csv(csv_file)\n",
    "            df.columns = header\n",
    "            df = df.drop(cols_todrop, axis=1)\n",
    "\n",
    "            x = medfilt(vec_resize(remove_white_noise(df['x'])))\n",
    "            scaled_clean_x = scaler.fit_transform(x.reshape(-1, 1)).reshape(1,-1).flatten()\n",
    "\n",
    "\n",
    "            y = medfilt(vec_resize(remove_white_noise(df['y'])))\n",
    "            scaled_clean_y = scaler.fit_transform(y.reshape(-1, 1)).reshape(1,-1).flatten()\n",
    "\n",
    "            # According to the dataset docs, Z is not accurate and has many zero values.\n",
    "            # Therefore, we do not remove white noise for it\n",
    "            z = medfilt(vec_resize(df['z']))\n",
    "            scaled_clean_z = scaler.fit_transform(z.reshape(-1, 1)).reshape(1,-1).flatten()\n",
    "\n",
    "            scaled_roll = medfilt(vec_resize(df['roll']))\n",
    "            scaled_thumb = medfilt(vec_resize(df['thumb']))\n",
    "            scaled_fore = medfilt(vec_resize(df['fore']))\n",
    "            scaled_index = medfilt(vec_resize(df['index']))\n",
    "            scaled_ring = medfilt(vec_resize(df['ring']))\n",
    "            vals = {\"x\" : scaled_clean_x,\n",
    "                    \"y\" : scaled_clean_y,\n",
    "                    \"z\" : scaled_clean_z,\n",
    "                    \"roll\": scaled_roll,\n",
    "                    \"thumb\" : scaled_thumb,\n",
    "                    \"fore\" : scaled_fore,\n",
    "                    \"index\": scaled_index,\n",
    "                    \"ring\" : scaled_ring}\n",
    "            new_df = pd.DataFrame(vals)\n",
    "            arrays = [list(new_df[col]) for col in new_df.columns]\n",
    "            concat = list(itertools.chain(*arrays))\n",
    "            concat_series = pd.Series(concat)\n",
    "            X = X.append(concat_series, ignore_index=True)\n",
    "        except:\n",
    "            faulty_files.append(i)\n",
    "            \n",
    "            "
   ]
  },
  {
   "cell_type": "code",
   "execution_count": 15,
   "metadata": {},
   "outputs": [
    {
     "data": {
      "text/plain": [
       "5"
      ]
     },
     "execution_count": 15,
     "metadata": {},
     "output_type": "execute_result"
    }
   ],
   "source": [
    "# Some files are empty, \n",
    "len(faulty_files)"
   ]
  },
  {
   "cell_type": "code",
   "execution_count": 16,
   "metadata": {},
   "outputs": [
    {
     "data": {
      "text/plain": [
       "6757"
      ]
     },
     "execution_count": 16,
     "metadata": {},
     "output_type": "execute_result"
    }
   ],
   "source": [
    "len(labels)"
   ]
  },
  {
   "cell_type": "code",
   "execution_count": 17,
   "metadata": {},
   "outputs": [],
   "source": [
    "# Removing faulty files' indices\n",
    "for fault in faulty_files:\n",
    "    labels.pop(fault)"
   ]
  },
  {
   "cell_type": "code",
   "execution_count": 18,
   "metadata": {},
   "outputs": [
    {
     "data": {
      "text/plain": [
       "6752"
      ]
     },
     "execution_count": 18,
     "metadata": {},
     "output_type": "execute_result"
    }
   ],
   "source": [
    "len(labels)"
   ]
  },
  {
   "cell_type": "code",
   "execution_count": 19,
   "metadata": {},
   "outputs": [
    {
     "data": {
      "text/plain": [
       "6752"
      ]
     },
     "execution_count": 19,
     "metadata": {},
     "output_type": "execute_result"
    }
   ],
   "source": [
    "len(X)"
   ]
  },
  {
   "cell_type": "markdown",
   "metadata": {},
   "source": [
    "### Creating X, y train and test sets:"
   ]
  },
  {
   "cell_type": "code",
   "execution_count": 20,
   "metadata": {},
   "outputs": [],
   "source": [
    "y = [label2ind[label] for label in labels]"
   ]
  },
  {
   "cell_type": "code",
   "execution_count": 21,
   "metadata": {},
   "outputs": [],
   "source": [
    "X_train, X_test, y_train, y_test = train_test_split(X, y, test_size = 0.2)"
   ]
  },
  {
   "cell_type": "markdown",
   "metadata": {},
   "source": [
    "## Models\n",
    "### Decision Tree using Gini Index:"
   ]
  },
  {
   "cell_type": "markdown",
   "metadata": {},
   "source": [
    "**We perform 5-fold Cross-Validation with Grid Search to find the best regularization parameters.**"
   ]
  },
  {
   "cell_type": "code",
   "execution_count": 22,
   "metadata": {},
   "outputs": [
    {
     "name": "stderr",
     "output_type": "stream",
     "text": [
      "C:\\Users\\ok\\AppData\\Local\\Programs\\Python\\Python37\\lib\\site-packages\\sklearn\\model_selection\\_search.py:814: DeprecationWarning: The default of the `iid` parameter will change from True to False in version 0.22 and will be removed in 0.24. This will change numeric results when test-set sizes are unequal.\n",
      "  DeprecationWarning)\n"
     ]
    },
    {
     "data": {
      "text/plain": [
       "GridSearchCV(cv=5, error_score='raise-deprecating',\n",
       "             estimator=DecisionTreeClassifier(class_weight=None,\n",
       "                                              criterion='gini', max_depth=None,\n",
       "                                              max_features=None,\n",
       "                                              max_leaf_nodes=None,\n",
       "                                              min_impurity_decrease=0.0,\n",
       "                                              min_impurity_split=None,\n",
       "                                              min_samples_leaf=1,\n",
       "                                              min_samples_split=2,\n",
       "                                              min_weight_fraction_leaf=0.0,\n",
       "                                              presort=False, random_state=None,\n",
       "                                              splitter='best'),\n",
       "             iid='warn', n_jobs=None,\n",
       "             param_grid=[{'min_samples_leaf': [1, 3, 5],\n",
       "                          'min_samples_split': [2, 3, 4]}],\n",
       "             pre_dispatch='2*n_jobs', refit=True, return_train_score=False,\n",
       "             scoring=None, verbose=0)"
      ]
     },
     "execution_count": 22,
     "metadata": {},
     "output_type": "execute_result"
    }
   ],
   "source": [
    "dtf_gini = DecisionTreeClassifier()\n",
    "\n",
    "param_grid = [{\"min_samples_leaf\": [1, 3, 5], 'min_samples_split': [2, 3, 4]}]\n",
    "\n",
    "\n",
    "grid_search_tree_gini = GridSearchCV(dtf_gini, param_grid, cv=5)\n",
    "grid_search_tree_gini.fit(X_train, y_train)\n"
   ]
  },
  {
   "cell_type": "code",
   "execution_count": 24,
   "metadata": {},
   "outputs": [
    {
     "data": {
      "text/plain": [
       "{'min_samples_leaf': 1, 'min_samples_split': 2}"
      ]
     },
     "execution_count": 24,
     "metadata": {},
     "output_type": "execute_result"
    }
   ],
   "source": [
    "# Best parameters determined from grid search and CV.\n",
    "grid_search_tree_gini.best_params_"
   ]
  },
  {
   "cell_type": "code",
   "execution_count": 25,
   "metadata": {},
   "outputs": [
    {
     "data": {
      "text/plain": [
       "0.1683021662655064"
      ]
     },
     "execution_count": 25,
     "metadata": {},
     "output_type": "execute_result"
    }
   ],
   "source": [
    "# The training accuracy of the best model.\n",
    "grid_search_tree_gini.best_score_"
   ]
  },
  {
   "cell_type": "code",
   "execution_count": 36,
   "metadata": {},
   "outputs": [],
   "source": [
    "# Fitting the best model to the data to find test accuracy.\n",
    "tuned_dtf_gini = DecisionTreeClassifier(min_samples_leaf = grid_search_tree_gini.best_params_[\"min_samples_leaf\"],\n",
    "               min_samples_split = grid_search_tree_gini.best_params_[\"min_samples_split\"])\n",
    "\n",
    "tuned_dtf_gini.fit(X_train, y_train)\n",
    "y_pred_tree_gini = tuned_dtf_gini.predict(X_test)"
   ]
  },
  {
   "cell_type": "code",
   "execution_count": 37,
   "metadata": {},
   "outputs": [
    {
     "name": "stdout",
     "output_type": "stream",
     "text": [
      "Accuracy of Gini DT: 0.19615099925980756\n"
     ]
    }
   ],
   "source": [
    "print(\"Accuracy of Gini DT:\", accuracy_score(y_test, y_pred_tree_gini))"
   ]
  },
  {
   "cell_type": "markdown",
   "metadata": {},
   "source": [
    "### Decision Tree using Gain Ratio (Entropy):"
   ]
  },
  {
   "cell_type": "markdown",
   "metadata": {},
   "source": [
    "**We perform 5-fold Cross-Validation with Grid Search to find the best regularization parameters.**"
   ]
  },
  {
   "cell_type": "code",
   "execution_count": 28,
   "metadata": {},
   "outputs": [
    {
     "name": "stderr",
     "output_type": "stream",
     "text": [
      "C:\\Users\\ok\\AppData\\Local\\Programs\\Python\\Python37\\lib\\site-packages\\sklearn\\model_selection\\_search.py:814: DeprecationWarning: The default of the `iid` parameter will change from True to False in version 0.22 and will be removed in 0.24. This will change numeric results when test-set sizes are unequal.\n",
      "  DeprecationWarning)\n"
     ]
    },
    {
     "data": {
      "text/plain": [
       "GridSearchCV(cv=5, error_score='raise-deprecating',\n",
       "             estimator=DecisionTreeClassifier(class_weight=None,\n",
       "                                              criterion='entropy',\n",
       "                                              max_depth=None, max_features=None,\n",
       "                                              max_leaf_nodes=None,\n",
       "                                              min_impurity_decrease=0.0,\n",
       "                                              min_impurity_split=None,\n",
       "                                              min_samples_leaf=1,\n",
       "                                              min_samples_split=2,\n",
       "                                              min_weight_fraction_leaf=0.0,\n",
       "                                              presort=False, random_state=None,\n",
       "                                              splitter='best'),\n",
       "             iid='warn', n_jobs=None,\n",
       "             param_grid=[{'min_samples_leaf': [1, 3, 5],\n",
       "                          'min_samples_split': [2, 3, 4]}],\n",
       "             pre_dispatch='2*n_jobs', refit=True, return_train_score=False,\n",
       "             scoring=None, verbose=0)"
      ]
     },
     "execution_count": 28,
     "metadata": {},
     "output_type": "execute_result"
    }
   ],
   "source": [
    "dtf_ent = DecisionTreeClassifier(criterion = 'entropy')\n",
    "\n",
    "param_grid = [{\"min_samples_leaf\": [1, 3, 5], 'min_samples_split': [2, 3, 4]}]\n",
    "\n",
    "\n",
    "grid_search_tree_ent = GridSearchCV(dtf_ent, param_grid, cv=5)\n",
    "grid_search_tree_ent.fit(X_train, y_train)"
   ]
  },
  {
   "cell_type": "code",
   "execution_count": 29,
   "metadata": {},
   "outputs": [
    {
     "data": {
      "text/plain": [
       "{'min_samples_leaf': 5, 'min_samples_split': 2}"
      ]
     },
     "execution_count": 29,
     "metadata": {},
     "output_type": "execute_result"
    }
   ],
   "source": [
    "# Best parameters determined from grid search and CV.\n",
    "grid_search_tree_ent.best_params_"
   ]
  },
  {
   "cell_type": "code",
   "execution_count": 30,
   "metadata": {},
   "outputs": [
    {
     "data": {
      "text/plain": [
       "0.17885576745047213"
      ]
     },
     "execution_count": 30,
     "metadata": {},
     "output_type": "execute_result"
    }
   ],
   "source": [
    "# The training accuracy of the best model.\n",
    "grid_search_tree_ent.best_score_"
   ]
  },
  {
   "cell_type": "code",
   "execution_count": 38,
   "metadata": {},
   "outputs": [],
   "source": [
    "# Fitting the best model to the data to find test accuracy.\n",
    "tuned_dtf_ent = DecisionTreeClassifier(min_samples_leaf = grid_search_tree_ent.best_params_[\"min_samples_leaf\"],\n",
    "               min_samples_split = grid_search_tree_ent.best_params_[\"min_samples_split\"])\n",
    "\n",
    "tuned_dtf_ent.fit(X_train, y_train)\n",
    "y_pred_tree_ent = tuned_dtf_ent.predict(X_test)"
   ]
  },
  {
   "cell_type": "code",
   "execution_count": 39,
   "metadata": {},
   "outputs": [
    {
     "name": "stdout",
     "output_type": "stream",
     "text": [
      "Accuracy of Gain Ratio DT: 0.18060695780903036\n"
     ]
    }
   ],
   "source": [
    "print(\"Accuracy of Gain Ratio DT:\", accuracy_score(y_test, y_pred_tree_ent))"
   ]
  },
  {
   "cell_type": "markdown",
   "metadata": {},
   "source": [
    "### SVM:"
   ]
  },
  {
   "cell_type": "markdown",
   "metadata": {},
   "source": [
    "**We perform 5-fold Cross-Validation with Grid Search to find the best regularization parameters and kernel.**"
   ]
  },
  {
   "cell_type": "code",
   "execution_count": 40,
   "metadata": {},
   "outputs": [
    {
     "name": "stderr",
     "output_type": "stream",
     "text": [
      "C:\\Users\\ok\\AppData\\Local\\Programs\\Python\\Python37\\lib\\site-packages\\sklearn\\svm\\base.py:193: FutureWarning: The default value of gamma will change from 'auto' to 'scale' in version 0.22 to account better for unscaled features. Set gamma explicitly to 'auto' or 'scale' to avoid this warning.\n",
      "  \"avoid this warning.\", FutureWarning)\n",
      "C:\\Users\\ok\\AppData\\Local\\Programs\\Python\\Python37\\lib\\site-packages\\sklearn\\svm\\base.py:193: FutureWarning: The default value of gamma will change from 'auto' to 'scale' in version 0.22 to account better for unscaled features. Set gamma explicitly to 'auto' or 'scale' to avoid this warning.\n",
      "  \"avoid this warning.\", FutureWarning)\n",
      "C:\\Users\\ok\\AppData\\Local\\Programs\\Python\\Python37\\lib\\site-packages\\sklearn\\svm\\base.py:193: FutureWarning: The default value of gamma will change from 'auto' to 'scale' in version 0.22 to account better for unscaled features. Set gamma explicitly to 'auto' or 'scale' to avoid this warning.\n",
      "  \"avoid this warning.\", FutureWarning)\n",
      "C:\\Users\\ok\\AppData\\Local\\Programs\\Python\\Python37\\lib\\site-packages\\sklearn\\svm\\base.py:193: FutureWarning: The default value of gamma will change from 'auto' to 'scale' in version 0.22 to account better for unscaled features. Set gamma explicitly to 'auto' or 'scale' to avoid this warning.\n",
      "  \"avoid this warning.\", FutureWarning)\n",
      "C:\\Users\\ok\\AppData\\Local\\Programs\\Python\\Python37\\lib\\site-packages\\sklearn\\svm\\base.py:193: FutureWarning: The default value of gamma will change from 'auto' to 'scale' in version 0.22 to account better for unscaled features. Set gamma explicitly to 'auto' or 'scale' to avoid this warning.\n",
      "  \"avoid this warning.\", FutureWarning)\n",
      "C:\\Users\\ok\\AppData\\Local\\Programs\\Python\\Python37\\lib\\site-packages\\sklearn\\svm\\base.py:193: FutureWarning: The default value of gamma will change from 'auto' to 'scale' in version 0.22 to account better for unscaled features. Set gamma explicitly to 'auto' or 'scale' to avoid this warning.\n",
      "  \"avoid this warning.\", FutureWarning)\n",
      "C:\\Users\\ok\\AppData\\Local\\Programs\\Python\\Python37\\lib\\site-packages\\sklearn\\svm\\base.py:193: FutureWarning: The default value of gamma will change from 'auto' to 'scale' in version 0.22 to account better for unscaled features. Set gamma explicitly to 'auto' or 'scale' to avoid this warning.\n",
      "  \"avoid this warning.\", FutureWarning)\n",
      "C:\\Users\\ok\\AppData\\Local\\Programs\\Python\\Python37\\lib\\site-packages\\sklearn\\svm\\base.py:193: FutureWarning: The default value of gamma will change from 'auto' to 'scale' in version 0.22 to account better for unscaled features. Set gamma explicitly to 'auto' or 'scale' to avoid this warning.\n",
      "  \"avoid this warning.\", FutureWarning)\n",
      "C:\\Users\\ok\\AppData\\Local\\Programs\\Python\\Python37\\lib\\site-packages\\sklearn\\svm\\base.py:193: FutureWarning: The default value of gamma will change from 'auto' to 'scale' in version 0.22 to account better for unscaled features. Set gamma explicitly to 'auto' or 'scale' to avoid this warning.\n",
      "  \"avoid this warning.\", FutureWarning)\n",
      "C:\\Users\\ok\\AppData\\Local\\Programs\\Python\\Python37\\lib\\site-packages\\sklearn\\svm\\base.py:193: FutureWarning: The default value of gamma will change from 'auto' to 'scale' in version 0.22 to account better for unscaled features. Set gamma explicitly to 'auto' or 'scale' to avoid this warning.\n",
      "  \"avoid this warning.\", FutureWarning)\n",
      "C:\\Users\\ok\\AppData\\Local\\Programs\\Python\\Python37\\lib\\site-packages\\sklearn\\svm\\base.py:193: FutureWarning: The default value of gamma will change from 'auto' to 'scale' in version 0.22 to account better for unscaled features. Set gamma explicitly to 'auto' or 'scale' to avoid this warning.\n",
      "  \"avoid this warning.\", FutureWarning)\n",
      "C:\\Users\\ok\\AppData\\Local\\Programs\\Python\\Python37\\lib\\site-packages\\sklearn\\svm\\base.py:193: FutureWarning: The default value of gamma will change from 'auto' to 'scale' in version 0.22 to account better for unscaled features. Set gamma explicitly to 'auto' or 'scale' to avoid this warning.\n",
      "  \"avoid this warning.\", FutureWarning)\n",
      "C:\\Users\\ok\\AppData\\Local\\Programs\\Python\\Python37\\lib\\site-packages\\sklearn\\svm\\base.py:193: FutureWarning: The default value of gamma will change from 'auto' to 'scale' in version 0.22 to account better for unscaled features. Set gamma explicitly to 'auto' or 'scale' to avoid this warning.\n",
      "  \"avoid this warning.\", FutureWarning)\n",
      "C:\\Users\\ok\\AppData\\Local\\Programs\\Python\\Python37\\lib\\site-packages\\sklearn\\svm\\base.py:193: FutureWarning: The default value of gamma will change from 'auto' to 'scale' in version 0.22 to account better for unscaled features. Set gamma explicitly to 'auto' or 'scale' to avoid this warning.\n",
      "  \"avoid this warning.\", FutureWarning)\n",
      "C:\\Users\\ok\\AppData\\Local\\Programs\\Python\\Python37\\lib\\site-packages\\sklearn\\svm\\base.py:193: FutureWarning: The default value of gamma will change from 'auto' to 'scale' in version 0.22 to account better for unscaled features. Set gamma explicitly to 'auto' or 'scale' to avoid this warning.\n",
      "  \"avoid this warning.\", FutureWarning)\n",
      "C:\\Users\\ok\\AppData\\Local\\Programs\\Python\\Python37\\lib\\site-packages\\sklearn\\svm\\base.py:193: FutureWarning: The default value of gamma will change from 'auto' to 'scale' in version 0.22 to account better for unscaled features. Set gamma explicitly to 'auto' or 'scale' to avoid this warning.\n",
      "  \"avoid this warning.\", FutureWarning)\n",
      "C:\\Users\\ok\\AppData\\Local\\Programs\\Python\\Python37\\lib\\site-packages\\sklearn\\svm\\base.py:193: FutureWarning: The default value of gamma will change from 'auto' to 'scale' in version 0.22 to account better for unscaled features. Set gamma explicitly to 'auto' or 'scale' to avoid this warning.\n",
      "  \"avoid this warning.\", FutureWarning)\n",
      "C:\\Users\\ok\\AppData\\Local\\Programs\\Python\\Python37\\lib\\site-packages\\sklearn\\svm\\base.py:193: FutureWarning: The default value of gamma will change from 'auto' to 'scale' in version 0.22 to account better for unscaled features. Set gamma explicitly to 'auto' or 'scale' to avoid this warning.\n",
      "  \"avoid this warning.\", FutureWarning)\n",
      "C:\\Users\\ok\\AppData\\Local\\Programs\\Python\\Python37\\lib\\site-packages\\sklearn\\svm\\base.py:193: FutureWarning: The default value of gamma will change from 'auto' to 'scale' in version 0.22 to account better for unscaled features. Set gamma explicitly to 'auto' or 'scale' to avoid this warning.\n",
      "  \"avoid this warning.\", FutureWarning)\n",
      "C:\\Users\\ok\\AppData\\Local\\Programs\\Python\\Python37\\lib\\site-packages\\sklearn\\svm\\base.py:193: FutureWarning: The default value of gamma will change from 'auto' to 'scale' in version 0.22 to account better for unscaled features. Set gamma explicitly to 'auto' or 'scale' to avoid this warning.\n",
      "  \"avoid this warning.\", FutureWarning)\n"
     ]
    },
    {
     "data": {
      "text/plain": [
       "GridSearchCV(cv=5, error_score='raise-deprecating',\n",
       "             estimator=SVC(C=1.0, cache_size=200, class_weight=None, coef0=0.0,\n",
       "                           decision_function_shape='ovr', degree=3,\n",
       "                           gamma='auto_deprecated', kernel='rbf', max_iter=-1,\n",
       "                           probability=False, random_state=None, shrinking=True,\n",
       "                           tol=0.001, verbose=False),\n",
       "             iid='warn', n_jobs=None,\n",
       "             param_grid=[{'C': [0.5, 1], 'kernel': ['linear', 'rbf'],\n",
       "                          'tol': [0.0001, 0.001]}],\n",
       "             pre_dispatch='2*n_jobs', refit=True, return_train_score=False,\n",
       "             scoring=None, verbose=0)"
      ]
     },
     "execution_count": 40,
     "metadata": {},
     "output_type": "execute_result"
    }
   ],
   "source": [
    "param_grid = [\n",
    "        {'kernel': ['linear',\"rbf\"], \n",
    "         'C': [0.5, 1],\n",
    "         \"tol\": [0.0001, 0.001]}]\n",
    "\n",
    "clf = SVC()\n",
    "grid_search_svm = GridSearchCV(clf, param_grid, cv=5)\n",
    "grid_search_svm.fit(X_train, y_train)\n"
   ]
  },
  {
   "cell_type": "code",
   "execution_count": 41,
   "metadata": {},
   "outputs": [
    {
     "data": {
      "text/plain": [
       "{'C': 1, 'kernel': 'linear', 'tol': 0.0001}"
      ]
     },
     "execution_count": 41,
     "metadata": {},
     "output_type": "execute_result"
    }
   ],
   "source": [
    "# Best parameters determined from grid search and CV.\n",
    "grid_search_svm.best_params_"
   ]
  },
  {
   "cell_type": "code",
   "execution_count": 42,
   "metadata": {},
   "outputs": [
    {
     "data": {
      "text/plain": [
       "0.4278837252360674"
      ]
     },
     "execution_count": 42,
     "metadata": {},
     "output_type": "execute_result"
    }
   ],
   "source": [
    "# The training accuracy of the best model.\n",
    "grid_search_svm.best_score_"
   ]
  },
  {
   "cell_type": "code",
   "execution_count": 43,
   "metadata": {},
   "outputs": [],
   "source": [
    "# Fitting the best model to the data to find test accuracy.\n",
    "tuned_clf = SVC(kernel = grid_search_svm.best_params_[\"kernel\"],\n",
    "               C = grid_search_svm.best_params_[\"C\"],\n",
    "               tol = grid_search_svm.best_params_[\"tol\"]) #recreating SVC with best params\n",
    "\n",
    "tuned_clf.fit(X_train, y_train)\n",
    "y_pred_svm = tuned_clf.predict(X_test)"
   ]
  },
  {
   "cell_type": "code",
   "execution_count": 44,
   "metadata": {},
   "outputs": [
    {
     "name": "stdout",
     "output_type": "stream",
     "text": [
      "Accuracy of SVM: 0.42783123612139157\n"
     ]
    }
   ],
   "source": [
    "print(\"Accuracy of SVM:\", accuracy_score(y_test, y_pred_svm))"
   ]
  },
  {
   "cell_type": "markdown",
   "metadata": {},
   "source": [
    "### Naive Bayes:"
   ]
  },
  {
   "cell_type": "code",
   "execution_count": 46,
   "metadata": {},
   "outputs": [],
   "source": [
    "nb_clf = GaussianNB()\n",
    "nb_clf.fit(X_train, y_train)\n",
    "\n",
    "y_pred_nb = nb_clf.predict(X_test)"
   ]
  },
  {
   "cell_type": "code",
   "execution_count": 47,
   "metadata": {},
   "outputs": [
    {
     "name": "stdout",
     "output_type": "stream",
     "text": [
      "Accuracy of Naive Bayes Classifier: 0.20947446336047373\n"
     ]
    }
   ],
   "source": [
    "print(\"Accuracy of Naive Bayes Classifier:\", accuracy_score(y_test, y_pred_nb))"
   ]
  },
  {
   "cell_type": "markdown",
   "metadata": {},
   "source": [
    "### 1-layer ANN:"
   ]
  },
  {
   "cell_type": "code",
   "execution_count": 50,
   "metadata": {},
   "outputs": [],
   "source": [
    "import torch\n",
    "import torch.nn as nn\n",
    "import torch.nn.functional as F\n",
    "from torch.optim import Adam"
   ]
  },
  {
   "cell_type": "code",
   "execution_count": 49,
   "metadata": {},
   "outputs": [
    {
     "data": {
      "text/plain": [
       "device(type='cpu')"
      ]
     },
     "execution_count": 49,
     "metadata": {},
     "output_type": "execute_result"
    }
   ],
   "source": [
    "device = torch.device(\"cuda\" if torch.cuda.is_available() else \"cpu\")\n",
    "device"
   ]
  },
  {
   "cell_type": "code",
   "execution_count": 412,
   "metadata": {},
   "outputs": [],
   "source": [
    "EPOCHS = 20\n",
    "BATCH_SIZE = 32\n",
    "ATTRS = 400\n",
    "HIDDEN_SIZE = ATTRS * 2\n",
    "OUTPUT_SIZE = len(label2ind)\n",
    "LEARNING_RATE = 3e-4"
   ]
  },
  {
   "cell_type": "markdown",
   "metadata": {},
   "source": [
    "Creating batches iterator:"
   ]
  },
  {
   "cell_type": "code",
   "execution_count": 406,
   "metadata": {},
   "outputs": [],
   "source": [
    "def get_batches(data, labels, batch_size):\n",
    "    num_batches = len(data) // batch_size\n",
    "    for i in range(0, num_batches*batch_size, batch_size):\n",
    "        batch_rawX = torch.tensor(data[i:i+batch_size].to_numpy()).float()\n",
    "        batch_rawY = torch.tensor(np.array(labels[i:i+batch_size]))\n",
    "        yield batch_rawX, batch_rawY\n"
   ]
  },
  {
   "cell_type": "markdown",
   "metadata": {},
   "source": [
    "Model initialization:"
   ]
  },
  {
   "cell_type": "code",
   "execution_count": 407,
   "metadata": {},
   "outputs": [],
   "source": [
    "class FCANN(nn.Module):\n",
    "    def __init__(self, input_size, hidden_size, output_size):\n",
    "        super().__init__()\n",
    "        self.fc1 = nn.Linear(input_size, hidden_size)\n",
    "        self.fc2 = nn.Linear(hidden_size, output_size)\n",
    "        \n",
    "    def forward(self, x):\n",
    "        x = F.relu(self.fc1(x))\n",
    "        x = self.fc2(x)\n",
    "        return x"
   ]
  },
  {
   "cell_type": "code",
   "execution_count": 416,
   "metadata": {},
   "outputs": [],
   "source": [
    "net = FCANN(ATTRS, HIDDEN_SIZE, OUTPUT_SIZE)"
   ]
  },
  {
   "cell_type": "code",
   "execution_count": 431,
   "metadata": {},
   "outputs": [
    {
     "name": "stdout",
     "output_type": "stream",
     "text": [
      "FCANN(\n",
      "  (fc1): Linear(in_features=400, out_features=800, bias=True)\n",
      "  (fc2): Linear(in_features=800, out_features=98, bias=True)\n",
      ")\n"
     ]
    }
   ],
   "source": [
    "print(net)"
   ]
  },
  {
   "cell_type": "code",
   "execution_count": 430,
   "metadata": {},
   "outputs": [],
   "source": [
    "criterion = nn.CrossEntropyLoss()\n",
    "optim = Adam(net.parameters(), lr = LEARNING_RATE)"
   ]
  },
  {
   "cell_type": "markdown",
   "metadata": {},
   "source": [
    "Training the model:"
   ]
  },
  {
   "cell_type": "code",
   "execution_count": 418,
   "metadata": {},
   "outputs": [],
   "source": [
    "def run(model, device, data, labels, criterion, optim):\n",
    "    losses_total = []\n",
    "    model.to(device)\n",
    "    for e in range(EPOCHS):\n",
    "        losses = []\n",
    "        batches = get_batches(data, labels, BATCH_SIZE)\n",
    "        for x, y in batches:            \n",
    "            net.train()\n",
    "            optim.zero_grad()\n",
    "            scores = net.forward(x)\n",
    "            loss = criterion(scores, y.long())\n",
    "            losses.append(int(loss))\n",
    "            loss.backward(retain_graph=True)\n",
    "            loss.backward()\n",
    "            _ = nn.utils.clip_grad_norm_(net.parameters(), 5)\n",
    "            optim.step()\n",
    "        losses_total.append(sum(losses)/len(losses))\n",
    "        print(e+1, \"/\", EPOCHS)\n",
    "    return losses_total\n",
    "            "
   ]
  },
  {
   "cell_type": "code",
   "execution_count": 419,
   "metadata": {},
   "outputs": [
    {
     "name": "stdout",
     "output_type": "stream",
     "text": [
      "1 / 20\n",
      "2 / 20\n",
      "3 / 20\n",
      "4 / 20\n",
      "5 / 20\n",
      "6 / 20\n",
      "7 / 20\n",
      "8 / 20\n",
      "9 / 20\n",
      "10 / 20\n",
      "11 / 20\n",
      "12 / 20\n",
      "13 / 20\n",
      "14 / 20\n",
      "15 / 20\n",
      "16 / 20\n",
      "17 / 20\n",
      "18 / 20\n",
      "19 / 20\n",
      "20 / 20\n"
     ]
    }
   ],
   "source": [
    "l = run(net, device, X_train, y_train, criterion, optim)"
   ]
  },
  {
   "cell_type": "markdown",
   "metadata": {},
   "source": [
    "Loss of the model per epoch:"
   ]
  },
  {
   "cell_type": "code",
   "execution_count": 421,
   "metadata": {},
   "outputs": [
    {
     "data": {
      "text/plain": [
       "[<matplotlib.lines.Line2D at 0x21c95af7a90>]"
      ]
     },
     "execution_count": 421,
     "metadata": {},
     "output_type": "execute_result"
    },
    {
     "data": {
      "image/png": "[encoded data removed]",
      "text/plain": [
       "<Figure size 432x288 with 1 Axes>"
      ]
     },
     "metadata": {
      "needs_background": "light"
     },
     "output_type": "display_data"
    }
   ],
   "source": [
    "plt.plot(l)"
   ]
  },
  {
   "cell_type": "markdown",
   "metadata": {},
   "source": [
    "### Testing ANN"
   ]
  },
  {
   "cell_type": "code",
   "execution_count": 428,
   "metadata": {},
   "outputs": [],
   "source": [
    "with torch.no_grad():\n",
    "    x = torch.tensor(X_test.to_numpy()).float()\n",
    "    scores = net(x)\n",
    "    _, predicted = torch.max(scores.data, 1)\n",
    "    y_pred_ann = [int(label) for label in predicted]"
   ]
  },
  {
   "cell_type": "code",
   "execution_count": 429,
   "metadata": {},
   "outputs": [
    {
     "name": "stdout",
     "output_type": "stream",
     "text": [
      "Accuracy of ANN: 0.4359733530717987\n"
     ]
    }
   ],
   "source": [
    "print(\"Accuracy of ANN:\", accuracy_score(y_test, y_pred_ann))"
   ]
  }
 ],
 "metadata": {
  "kernelspec": {
   "display_name": "Python 3",
   "language": "python",
   "name": "python3"
  },
  "language_info": {
   "codemirror_mode": {
    "name": "ipython",
    "version": 3
   },
   "file_extension": ".py",
   "mimetype": "text/x-python",
   "name": "python",
   "nbconvert_exporter": "python",
   "pygments_lexer": "ipython3",
   "version": "3.7.6"
  }
 },
 "nbformat": 4,
 "nbformat_minor": 2
}
